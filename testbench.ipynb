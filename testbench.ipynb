{
 "cells": [
  {
   "cell_type": "code",
   "execution_count": null,
   "metadata": {},
   "outputs": [],
   "source": [
    "from app.factor.factorModel import factorModel\n",
    "import copy\n",
    "import numpy as np\n",
    "from tqdm import tqdm\n",
    "m = factorModel()\n",
    "\n",
    "\n",
    "\n",
    "\n",
    "\n",
    "m.factor_name_lst = ['Analyst_factor', 'NegMktValue']\n",
    "Equity_Idx_Monthly_Equity_Returns, Monthly_Equity_Returns, Monthly_Factor_Score, Equity_Idx_Monthly_Factor_Score, Daily_Equity_Returns, benchmark_dailyret = m.getData()\n",
    "lookBackPeriod = 6\n",
    "stock_names = list(Equity_Idx_Monthly_Factor_Score.keys())\n",
    "\n",
    "month_score_copy = copy.deepcopy(Monthly_Factor_Score)\n",
    "equity_idx_month_score_copy = copy.deepcopy(Equity_Idx_Monthly_Factor_Score)\n",
    "\n",
    "for idx, factor in tqdm(enumerate(m.factor_name_lst)):\n",
    "    print(f'-----FACTOR: {factor}------')\n",
    "\n",
    "    for i in tqdm(range(lookBackPeriod, len(m.bt_tradedate))):\n",
    "        period = m.bt_tradedate[i-lookBackPeriod:i]\n",
    "        endDate = m.pre_bt_tradedate[i]\n",
    "        month = m.bt_tradedate[i]\n",
    "\n",
    "        _, _, _, _, df_bt_alpha_indicator = m.calculate(Equity_Idx_Monthly_Equity_Returns, Monthly_Equity_Returns, month_score_copy, equity_idx_month_score_copy, Daily_Equity_Returns, benchmark_dailyret,\n",
    "                                                                        month_names = period,\n",
    "                                                                        main = False,\n",
    "                                                                        endTimeAdj = endDate,\n",
    "                                                                        factor_idx=[idx],\n",
    "                                                                        factor_names = [factor])\n",
    "\n",
    "        df_bt_alpha_indicator = df_bt_alpha_indicator[:-1]\n",
    "        bestGroup = df_bt_alpha_indicator['calmar'].idxmax()\n",
    "\n",
    "        if bestGroup == 0:\n",
    "            continue\n",
    "\n",
    "        #上面我们看了1-6月的数据 找到了最好的组数量\n",
    "        #下面要看7月份的分组，去看组x里的股票是什么，然后把7月权重改了\n",
    "        nameList, scoreList = [], []\n",
    "        for name in stock_names:\n",
    "            name, score = m.calcEquityScore(name, [1], equity_idx_month_score_copy, month, [idx])\n",
    "            if name:\n",
    "                nameList.append(name)\n",
    "                scoreList.append(score)\n",
    "        equityGroups = m.rankEquity(nameList, scoreList)\n",
    "\n",
    "        stocksToAdjust = equityGroups[bestGroup] #要调整的股票名字\n",
    "\n",
    "        #getting the stocks that are avail this month\n",
    "        currMonthkeys = [k for k, v in equity_idx_month_score_copy.items() if month in v]\n",
    "        \n",
    "        #getting the keys of those stocks to adjust of all stocks\n",
    "        keyOfStocks = [currMonthkeys.index(i) for i in stocksToAdjust]\n",
    "        \n",
    "        #adjust Monthly_Factor_Score of all of those stocks to be larger\n",
    "        currMonthFactorScore = Monthly_Factor_Score[factor][month]\n",
    "        for i in keyOfStocks:\n",
    "            currMonthFactorScore[i] += max(currMonthFactorScore)\n",
    "        currMonthFactorScore = (currMonthFactorScore - np.mean(currMonthFactorScore)) / np.std(currMonthFactorScore)\n",
    "        Monthly_Factor_Score[factor][month] = currMonthFactorScore\n",
    "\n",
    "        #adjust Equity_Idx_Monthly_Factor_Score\n",
    "        for stock, stockidx in zip(stocksToAdjust, keyOfStocks):\n",
    "            Equity_Idx_Monthly_Factor_Score[stock][month][idx] = Monthly_Factor_Score[factor][month][stockidx]"
   ]
  },
  {
   "cell_type": "code",
   "execution_count": null,
   "metadata": {},
   "outputs": [],
   "source": []
  },
  {
   "cell_type": "code",
   "execution_count": null,
   "metadata": {},
   "outputs": [],
   "source": [
    "from app.factor.factorModel import factorModel\n",
    "import itertools\n",
    "import numpy as np\n",
    "from tqdm import tqdm\n",
    "m = factorModel()\n",
    "\n",
    "combToIC = {}\n",
    "\n",
    "m.factor_name_lst = m.allfactorname_lst\n",
    "_, Monthly_Equity_Returns, Monthly_Factor_Score, _, _, _ = m.getData()\n",
    "print('gotData')\n",
    "factors = m.factor_name_lst\n",
    "months = list(Monthly_Equity_Returns.keys())\n",
    "\n",
    "for factorComb in tqdm(itertools.combinations(factors, 7)):\n",
    "    currIC = 0\n",
    "    for month in months:\n",
    "        returns = Monthly_Equity_Returns[month]\n",
    "        for factor in factorComb:\n",
    "            if not scores:\n",
    "                scores = Monthly_Factor_Score[factor][month]\n",
    "            else:\n",
    "                scores = np.add(scores, Monthly_Factor_Score[factor][month])\n",
    "        corr = np.corrcoef(scores, returns)[0,1]\n",
    "        currIC += corr\n",
    "        print(f'for month {month}, comb {factorComb} has IC {corr}')\n",
    "    combToIC[factorComb] = currIC\n",
    "    print(f'Comb {factorComb} has IC {combToIC[factorComb]}')\n",
    "\n",
    "\n",
    "    \n",
    "\n",
    "\n"
   ]
  },
  {
   "cell_type": "code",
   "execution_count": null,
   "metadata": {},
   "outputs": [],
   "source": [
    "Monthly_Factor_Score['gmmDmean1m20D']['20210104']"
   ]
  },
  {
   "cell_type": "code",
   "execution_count": 1,
   "metadata": {},
   "outputs": [
    {
     "name": "stdout",
     "output_type": "stream",
     "text": [
      "getting data\n",
      "gotData in 113.62610101699829 seconds\n",
      "          Analyst_factor  NegMktValue  technology_factor   tps_sps  \\\n",
      "20210104        0.396948    -6.376436          -0.458922  0.244044   \n",
      "20210104        0.184236    -5.973033          -0.608177  0.249567   \n",
      "20210104       -0.237436     0.427529           0.750740  0.215019   \n",
      "20210104       -0.261377     0.314248          -0.138511  0.171653   \n",
      "20210104       -0.031587     0.332653           0.495872  0.249693   \n",
      "...                  ...          ...                ...       ...   \n",
      "20230801       -0.538152     0.277543           0.200400  0.113201   \n",
      "20230801        0.061928     0.370996          -0.426301 -0.334429   \n",
      "20230801        0.412090     0.389597           0.288977 -0.258804   \n",
      "20230801        0.091448    -2.282325          -0.934665  0.159859   \n",
      "20230801        0.236228     0.028438          -0.413215  0.181306   \n",
      "\n",
      "          momentumn_factor  avgwght_momentum   seven_f  udslDWL  udslUCL  \\\n",
      "20210104          0.761350         -0.432380  0.516508  -1.0709  -0.8763   \n",
      "20210104          0.078867         -0.324277 -0.457863  -1.0650  -0.7172   \n",
      "20210104         -0.195640          0.321956 -0.169042  -0.9223  -0.8114   \n",
      "20210104         -0.885325         -0.294352 -0.543472  -1.0812  -1.0344   \n",
      "20210104          0.095618          0.302352 -0.574959  -0.9535  -0.7921   \n",
      "...                    ...               ...       ...      ...      ...   \n",
      "20230801         -3.496450          1.180511  0.682272  -0.9245  -0.7780   \n",
      "20230801         -3.161897          0.627542 -0.731265  -0.8653  -0.6918   \n",
      "20230801          0.271554          0.264643  0.370032  -0.9951  -0.7142   \n",
      "20230801          0.498946         -0.395926 -0.335993  -1.0380  -0.6711   \n",
      "20230801          0.470393         -0.188728 -0.699406  -0.9499  -0.6049   \n",
      "\n",
      "            udsl  ...   trVoV  mintvalQua20D  mintvalSkew20D  mintvalMts20D  \\\n",
      "20210104 -0.6954  ... -0.0209        -0.1593         -0.4599         0.5597   \n",
      "20210104 -0.1508  ... -0.0531        -0.1719         -0.4947         0.5251   \n",
      "20210104  0.6587  ... -0.0599        -0.0264          0.2299         0.4126   \n",
      "20210104 -1.2704  ... -0.0499        -0.0721         -0.1476         0.4445   \n",
      "20210104  0.4774  ... -0.0565        -0.0774         -0.1896         0.4624   \n",
      "...          ...  ...     ...            ...             ...            ...   \n",
      "20230801  0.4688  ... -0.0313        -0.1551         -0.6938         0.5149   \n",
      "20230801  1.2227  ... -0.1394        -0.1368         -0.3968         0.4729   \n",
      "20230801  0.1033  ... -0.4972        -0.1547         -0.5281         0.5616   \n",
      "20230801 -0.1045  ... -0.1787        -0.1882         -0.5001         0.2765   \n",
      "20230801  0.8192  ... -0.1410        -0.1287         -0.3881         0.4313   \n",
      "\n",
      "          mintvalMte20D  sectvalKurt20D  ovalMbsr20D  gmmMean1m20D  \\\n",
      "20210104       -14.1626          1.3661      -0.1330       -1.8387   \n",
      "20210104       -10.0164          1.5945      -0.3373       10.2319   \n",
      "20210104         0.6861          1.0047      -0.1861       -0.0076   \n",
      "20210104        -3.0493          0.7997      -0.2329        3.2688   \n",
      "20210104         2.5201          0.6181      -0.2113        3.0473   \n",
      "...                 ...             ...          ...           ...   \n",
      "20230801        -4.0738          0.4682      -0.0624      -11.2700   \n",
      "20230801         0.4819          0.5776      -0.0803       15.9916   \n",
      "20230801        -7.1799          0.4588       0.0341       -7.8705   \n",
      "20230801         6.1377          0.9618      -0.0790       -3.3663   \n",
      "20230801         3.7253          0.7357      -0.4207        6.9524   \n",
      "\n",
      "          gmmDmean1m20D   Returns  \n",
      "20210104        -0.9559  0.269388  \n",
      "20210104        -0.0588 -0.021949  \n",
      "20210104        -1.9347 -0.233201  \n",
      "20210104        -1.9717 -0.121213  \n",
      "20210104        -2.5342 -0.078740  \n",
      "...                 ...       ...  \n",
      "20230801        -2.1735 -0.077483  \n",
      "20230801        -2.2077 -0.193724  \n",
      "20230801        -0.9247 -0.096852  \n",
      "20230801        -0.3906 -0.059583  \n",
      "20230801        -1.3892 -0.119321  \n",
      "\n",
      "[95217 rows x 148 columns]\n"
     ]
    }
   ],
   "source": [
    "from app.factor.factorModel import factorModel\n",
    "import itertools\n",
    "import numpy as np\n",
    "import pandas as pd\n",
    "from tqdm import tqdm\n",
    "import multiprocessing as mp\n",
    "import time\n",
    "m = factorModel()\n",
    "\n",
    "# res = pd.DataFrame(columns=['F1','F2','F3','F4','F5','F6','F7','IC'])\n",
    "\n",
    "m.factor_name_lst = m.allfactorname_lst\n",
    "print(\"getting data\")\n",
    "currT = time.time()\n",
    "_, Monthly_Equity_Returns, Monthly_Factor_Score, _, _, _ = m.getData()\n",
    "print(f'gotData in {time.time() - currT} seconds')\n",
    "# factors = m.factor_name_lst\n",
    "# months = list(Monthly_Equity_Returns.keys())\n",
    "\n",
    "# chooseAmount = 7\n",
    "\n",
    "df = pd.DataFrame()\n",
    "\n",
    "for factor, factor_data in Monthly_Factor_Score.items():\n",
    "    data = []\n",
    "    month_list = []\n",
    "    for month, scores in factor_data.items():\n",
    "        month_list.extend([month]*len(scores))\n",
    "        data.extend(scores)\n",
    "    df_factor = pd.DataFrame(data, columns=[factor], index=month_list)\n",
    "    df = pd.concat([df, df_factor], axis=1)\n",
    "\n",
    "returns = []\n",
    "month_list_ret = []\n",
    "for month, ret in Monthly_Equity_Returns.items():\n",
    "    month_list_ret.extend([month]*len(ret))\n",
    "    returns.extend(ret)\n",
    "\n",
    "df_returns = pd.DataFrame(returns, columns=['Returns'], index=month_list_ret)\n",
    "df = pd.concat([df, df_returns], axis=1)\n",
    "\n",
    "print(df)\n",
    "\n",
    "df.to_csv('factorScoreToReturn.csv')\n"
   ]
  },
  {
   "cell_type": "code",
   "execution_count": null,
   "metadata": {},
   "outputs": [],
   "source": [
    "def worker(factorComb, res, lock):\n",
    "    currIC = 0\n",
    "    for month in months:\n",
    "        scores = np.array([])\n",
    "        returns = Monthly_Equity_Returns[month]\n",
    "        for factor in factorComb:\n",
    "            if scores.size == 0:\n",
    "                scores = np.array(Monthly_Factor_Score[factor][month])\n",
    "            else:\n",
    "                scores = np.add(scores, Monthly_Factor_Score[factor][month])\n",
    "        corr = np.corrcoef(scores, returns)[0,1]\n",
    "        currIC += corr\n",
    "    tempArr = list(factorComb) + [currIC]\n",
    "    lock.acquire()\n",
    "    try:\n",
    "        res.loc[len(res)] = tempArr\n",
    "    finally:\n",
    "        lock.release()\n",
    "\n",
    "pool = mp.Pool(processes=mp.cpu_count())  # Create a pool of processes\n",
    "lock = mp.Manager().Lock() \n",
    "\n",
    "for factorComb in itertools.combinations(factors, chooseAmount):\n",
    "    pool.apply_async(worker, args=(factorComb, res, lock))\n",
    "\n",
    "print('finished Mapping')\n",
    "\n",
    "pool.close()\n",
    "pool.join()\n",
    "\n",
    "res.to_csv(f'factorChoose{chooseAmount}.csv')"
   ]
  },
  {
   "cell_type": "code",
   "execution_count": null,
   "metadata": {},
   "outputs": [],
   "source": [
    "df_bt_alpha_indicator"
   ]
  },
  {
   "cell_type": "code",
   "execution_count": null,
   "metadata": {},
   "outputs": [],
   "source": [
    "\n",
    "lookBackPeriod = 6\n",
    "\n",
    "for i in range(lookBackPeriod, len(m.bt_tradedate)):\n",
    "    print('period is ', m.bt_tradedate[i-lookBackPeriod:i])\n",
    "    print('endDate is ', m.pre_bt_tradedate[i])\n",
    "    print('for calc of the trading mo of ', m.bt_tradedate[i])"
   ]
  },
  {
   "cell_type": "code",
   "execution_count": null,
   "metadata": {},
   "outputs": [],
   "source": [
    "from app.factor.factorModel import factorModel\n",
    "m = factorModel()\n",
    "m.start = '20230101'\n",
    "m.end = '20230731'\n",
    "m.factor_name_lst = ['NegMktValue']\n",
    "Equity_Idx_Monthly_Equity_Returns, Monthly_Equity_Returns, Monthly_Factor_Score, Equity_Idx_Monthly_Factor_Score, Daily_Equity_Returns, benchmark_dailyret = m.getData()\n",
    "\n",
    "_, _, _, _, df_bt_alpha_indicator = m.calculate(Equity_Idx_Monthly_Equity_Returns, Monthly_Equity_Returns, Monthly_Factor_Score, Equity_Idx_Monthly_Factor_Score, Daily_Equity_Returns, benchmark_dailyret,\n",
    "                                                                month_names = ['20230201', '20230301', '20230403', '20230504', '20230601', '20230703'],\n",
    "                                                                main = True,\n",
    "                                                                endTimeAdj = '20230731')\n",
    "\n",
    "df_bt_alpha_indicator = df_bt_alpha_indicator[:-1]\n",
    "bestGroup = df_bt_alpha_indicator['calmar'].idxmax()\n",
    "print(df_bt_alpha_indicator)\n",
    "print(bestGroup)\n",
    "print(list(Monthly_Equity_Returns.keys()))"
   ]
  },
  {
   "cell_type": "code",
   "execution_count": null,
   "metadata": {},
   "outputs": [],
   "source": [
    "len(m.pre_bt_tradedate)"
   ]
  },
  {
   "cell_type": "code",
   "execution_count": null,
   "metadata": {},
   "outputs": [],
   "source": [
    "len(m.bt_tradedate)"
   ]
  },
  {
   "cell_type": "code",
   "execution_count": null,
   "metadata": {},
   "outputs": [],
   "source": [
    "m = factorModel()\n",
    "m.start = '20221001'\n",
    "m.end = '20230731'\n",
    "m.bt_tradedate"
   ]
  },
  {
   "cell_type": "code",
   "execution_count": null,
   "metadata": {},
   "outputs": [],
   "source": [
    "lookBack = 6\n",
    "\n",
    "for i in range(lookBack, len(m.bt_tradedate)):\n",
    "    monthName = m.bt_tradedate[i-lookBack:i]\n",
    "    print(monthName)"
   ]
  },
  {
   "cell_type": "code",
   "execution_count": null,
   "metadata": {},
   "outputs": [],
   "source": [
    "minMonth = 2\n",
    "maxMonth = 5\n",
    "\n",
    "availMonth = len(month_names)\n",
    "\n",
    "if availMonth < maxMonth:\n",
    "    startMonth = month_names[0]\n",
    "else:\n",
    "    startMonth = month_names[availMonth-maxMonth]\n",
    "\n",
    "res = defaultdict(list)\n",
    "\n",
    "endMonth = month_names[-1]\n",
    "\n",
    "for factor in Monthly_Factor_Score:\n",
    "    for date in Monthly_Factor_Score[factor]:\n",
    "        #print(date, int(date) >= int(startMonth), int(date) <= int(endMonth))\n",
    "        if int(date) >= int(startMonth) and int(date) <= int(endMonth):\n",
    "            res[factor] += Monthly_Factor_Score[factor][date]\n",
    "\n",
    "res = pd.DataFrame(res)\n",
    "\n",
    "ICList = ICList.tail(min(maxMonth, ICList.shape[0]))\n",
    "\n",
    "covar = np.cov(ICList, rowvar=False)\n",
    "corr = np.corrcoef(res, rowvar=False)\n",
    "D = np.diag(np.sqrt(np.diag(covar)))\n",
    "covar = D @ nlg.inv(corr) @ D\n",
    "\n",
    "mat = nlg.inv(covar)                 \n",
    "weight = mat*np.mat(ICList.mean()).reshape(len(mat),1)\n",
    "weight = np.array(weight.reshape(len(weight),))[0]\n",
    "weight.tolist()\n",
    "\n",
    "\n",
    "\n",
    "\n"
   ]
  },
  {
   "cell_type": "code",
   "execution_count": null,
   "metadata": {},
   "outputs": [],
   "source": [
    "import seaborn as sns\n",
    "sns.heatmap(ICList.corr(), annot=True)"
   ]
  },
  {
   "cell_type": "code",
   "execution_count": null,
   "metadata": {},
   "outputs": [],
   "source": [
    "import seaborn as sns\n",
    "sns.heatmap(res.corr(), annot=True)"
   ]
  },
  {
   "cell_type": "code",
   "execution_count": null,
   "metadata": {},
   "outputs": [],
   "source": [
    "ic"
   ]
  },
  {
   "cell_type": "code",
   "execution_count": null,
   "metadata": {},
   "outputs": [],
   "source": [
    "np.corrcoef(ICList, rowvar=False).shape"
   ]
  },
  {
   "cell_type": "code",
   "execution_count": null,
   "metadata": {},
   "outputs": [],
   "source": [
    "#corr to covar\n",
    "covar = np.cov(ICList)\n",
    "corr = np.corrcoef(res)\n",
    "\n",
    "D = np.diag(np.sqrt(np.diag(covar)))\n",
    "covar = D @ corr @ D"
   ]
  },
  {
   "cell_type": "code",
   "execution_count": null,
   "metadata": {},
   "outputs": [],
   "source": [
    "# mat = nlg.inv(covar)                    \n",
    "# weight = mat*np.mat(IC.mean()).reshape(len(mat),1)\n",
    "\n",
    "# weight = np.array(weight.reshape(len(weight),))[0]\n",
    "# weight = weight.tolist()"
   ]
  },
  {
   "cell_type": "code",
   "execution_count": null,
   "metadata": {},
   "outputs": [],
   "source": [
    "corr = np.corrcoef(ICList)\n",
    "covar = np.cov(ICList)"
   ]
  },
  {
   "cell_type": "code",
   "execution_count": null,
   "metadata": {},
   "outputs": [],
   "source": [
    "newScore = defaultdict(list)\n",
    "for k, v in Monthly_Factor_Score.items():\n",
    "    newScore[key] = \n",
    "    # newLst[key] = np.vstack([np.array(i) for i in Monthly_Factor_Score[key].values()])\n",
    "\n"
   ]
  },
  {
   "cell_type": "code",
   "execution_count": null,
   "metadata": {},
   "outputs": [],
   "source": [
    "res.keys()"
   ]
  },
  {
   "cell_type": "code",
   "execution_count": null,
   "metadata": {},
   "outputs": [],
   "source": [
    "Monthly_Factor_Score['decay_panic'].values()"
   ]
  },
  {
   "cell_type": "code",
   "execution_count": null,
   "metadata": {},
   "outputs": [],
   "source": [
    "#covar to corr\n",
    "Dinv = np.diag(1 / np.sqrt(np.diag(covar))) \n",
    "corr = Dinv @ covar @ Dinv"
   ]
  },
  {
   "cell_type": "code",
   "execution_count": null,
   "metadata": {},
   "outputs": [],
   "source": [
    "#corr to covar\n",
    "D = np.diag(np.sqrt(np.diag(covar)))\n",
    "covar = D @ corr @ D"
   ]
  },
  {
   "cell_type": "code",
   "execution_count": null,
   "metadata": {},
   "outputs": [],
   "source": [
    "from app.factor.factorModel import factorModel\n",
    "f = factorModel()\n",
    "a, b, c, d, e, f = f.getData()"
   ]
  },
  {
   "cell_type": "code",
   "execution_count": null,
   "metadata": {},
   "outputs": [],
   "source": [
    "c"
   ]
  },
  {
   "cell_type": "code",
   "execution_count": null,
   "metadata": {},
   "outputs": [],
   "source": [
    "for stk in d:\n",
    "    for val in d[stk]:\n",
    "        if len(d[stk][val]) != 13:\n",
    "            print('not equal to 13')"
   ]
  },
  {
   "cell_type": "code",
   "execution_count": null,
   "metadata": {},
   "outputs": [],
   "source": [
    "d"
   ]
  },
  {
   "cell_type": "code",
   "execution_count": null,
   "metadata": {},
   "outputs": [],
   "source": [
    "import pandas as pd\n",
    "\n",
    "df = pd.read_csv('factor.csv',header=None)\n",
    "\n",
    "print(df[0].tolist())"
   ]
  }
 ],
 "metadata": {
  "kernelspec": {
   "display_name": "internCode",
   "language": "python",
   "name": "python3"
  },
  "language_info": {
   "codemirror_mode": {
    "name": "ipython",
    "version": 3
   },
   "file_extension": ".py",
   "mimetype": "text/x-python",
   "name": "python",
   "nbconvert_exporter": "python",
   "pygments_lexer": "ipython3",
   "version": "3.11.4"
  },
  "orig_nbformat": 4
 },
 "nbformat": 4,
 "nbformat_minor": 2
}
