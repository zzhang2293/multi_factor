{
 "cells": [
  {
   "cell_type": "code",
   "execution_count": 1,
   "metadata": {},
   "outputs": [
    {
     "name": "stdout",
     "output_type": "stream",
     "text": [
      "[1.0]\n",
      "[1.0]\n",
      "[1.0]\n",
      "[1.0]\n",
      "[1.0]\n",
      "[1.0]\n",
      "[1.0]\n",
      "[1.0]\n",
      "[1.0]\n",
      "[1.0]\n",
      "[1.0]\n",
      "[1.0]\n",
      "[1.0]\n",
      "[1.0]\n",
      "[1.0]\n",
      "[1.0]\n",
      "[1.0]\n",
      "[1.0]\n",
      "[1.0]\n"
     ]
    }
   ],
   "source": [
    "from factorModel import factorModel    \n",
    "\n",
    "self = factorModel()\n",
    "\n",
    "groupedDaily = self.run()\n"
   ]
  },
  {
   "cell_type": "code",
   "execution_count": 3,
   "metadata": {},
   "outputs": [],
   "source": [
    "from FactorAnalysis import AnalysisMethod\n",
    "factorAnalysis = AnalysisMethod()\n",
    "daily = factorAnalysis.MainFunc()\n"
   ]
  },
  {
   "cell_type": "code",
   "execution_count": 16,
   "metadata": {},
   "outputs": [
    {
     "data": {
      "text/html": [
       "<div>\n",
       "<style scoped>\n",
       "    .dataframe tbody tr th:only-of-type {\n",
       "        vertical-align: middle;\n",
       "    }\n",
       "\n",
       "    .dataframe tbody tr th {\n",
       "        vertical-align: top;\n",
       "    }\n",
       "\n",
       "    .dataframe thead th {\n",
       "        text-align: right;\n",
       "    }\n",
       "</style>\n",
       "<table border=\"1\" class=\"dataframe\">\n",
       "  <thead>\n",
       "    <tr style=\"text-align: right;\">\n",
       "      <th></th>\n",
       "      <th>trade_date</th>\n",
       "      <th>ts_code</th>\n",
       "      <th>chgPct</th>\n",
       "    </tr>\n",
       "  </thead>\n",
       "  <tbody>\n",
       "    <tr>\n",
       "      <th>0</th>\n",
       "      <td>20220104</td>\n",
       "      <td>000001.SZ</td>\n",
       "      <td>-0.030573</td>\n",
       "    </tr>\n",
       "    <tr>\n",
       "      <th>541</th>\n",
       "      <td>20220105</td>\n",
       "      <td>000001.SZ</td>\n",
       "      <td>-0.012842</td>\n",
       "    </tr>\n",
       "    <tr>\n",
       "      <th>849</th>\n",
       "      <td>20220106</td>\n",
       "      <td>000001.SZ</td>\n",
       "      <td>-0.042724</td>\n",
       "    </tr>\n",
       "    <tr>\n",
       "      <th>1135</th>\n",
       "      <td>20220107</td>\n",
       "      <td>000001.SZ</td>\n",
       "      <td>-0.036566</td>\n",
       "    </tr>\n",
       "    <tr>\n",
       "      <th>1468</th>\n",
       "      <td>20220110</td>\n",
       "      <td>000001.SZ</td>\n",
       "      <td>-0.041604</td>\n",
       "    </tr>\n",
       "    <tr>\n",
       "      <th>1777</th>\n",
       "      <td>20220111</td>\n",
       "      <td>000001.SZ</td>\n",
       "      <td>-0.028774</td>\n",
       "    </tr>\n",
       "    <tr>\n",
       "      <th>2063</th>\n",
       "      <td>20220112</td>\n",
       "      <td>000001.SZ</td>\n",
       "      <td>-0.063630</td>\n",
       "    </tr>\n",
       "    <tr>\n",
       "      <th>2372</th>\n",
       "      <td>20220113</td>\n",
       "      <td>000001.SZ</td>\n",
       "      <td>-0.042175</td>\n",
       "    </tr>\n",
       "    <tr>\n",
       "      <th>2680</th>\n",
       "      <td>20220114</td>\n",
       "      <td>000001.SZ</td>\n",
       "      <td>-0.077756</td>\n",
       "    </tr>\n",
       "    <tr>\n",
       "      <th>2990</th>\n",
       "      <td>20220117</td>\n",
       "      <td>000001.SZ</td>\n",
       "      <td>-0.047507</td>\n",
       "    </tr>\n",
       "    <tr>\n",
       "      <th>3322</th>\n",
       "      <td>20220118</td>\n",
       "      <td>000001.SZ</td>\n",
       "      <td>-0.023310</td>\n",
       "    </tr>\n",
       "    <tr>\n",
       "      <th>3608</th>\n",
       "      <td>20220119</td>\n",
       "      <td>000001.SZ</td>\n",
       "      <td>-0.042208</td>\n",
       "    </tr>\n",
       "    <tr>\n",
       "      <th>3917</th>\n",
       "      <td>20220120</td>\n",
       "      <td>000001.SZ</td>\n",
       "      <td>0.007191</td>\n",
       "    </tr>\n",
       "    <tr>\n",
       "      <th>4225</th>\n",
       "      <td>20220121</td>\n",
       "      <td>000001.SZ</td>\n",
       "      <td>-0.039940</td>\n",
       "    </tr>\n",
       "    <tr>\n",
       "      <th>4535</th>\n",
       "      <td>20220124</td>\n",
       "      <td>000001.SZ</td>\n",
       "      <td>-0.049338</td>\n",
       "    </tr>\n",
       "    <tr>\n",
       "      <th>4844</th>\n",
       "      <td>20220125</td>\n",
       "      <td>000001.SZ</td>\n",
       "      <td>-0.060561</td>\n",
       "    </tr>\n",
       "    <tr>\n",
       "      <th>5152</th>\n",
       "      <td>20220126</td>\n",
       "      <td>000001.SZ</td>\n",
       "      <td>-0.052429</td>\n",
       "    </tr>\n",
       "    <tr>\n",
       "      <th>5461</th>\n",
       "      <td>20220127</td>\n",
       "      <td>000001.SZ</td>\n",
       "      <td>-0.061205</td>\n",
       "    </tr>\n",
       "    <tr>\n",
       "      <th>5771</th>\n",
       "      <td>20220128</td>\n",
       "      <td>000001.SZ</td>\n",
       "      <td>-0.068698</td>\n",
       "    </tr>\n",
       "    <tr>\n",
       "      <th>6077</th>\n",
       "      <td>20220207</td>\n",
       "      <td>000001.SZ</td>\n",
       "      <td>-0.007123</td>\n",
       "    </tr>\n",
       "  </tbody>\n",
       "</table>\n",
       "</div>"
      ],
      "text/plain": [
       "     trade_date    ts_code    chgPct\n",
       "0      20220104  000001.SZ -0.030573\n",
       "541    20220105  000001.SZ -0.012842\n",
       "849    20220106  000001.SZ -0.042724\n",
       "1135   20220107  000001.SZ -0.036566\n",
       "1468   20220110  000001.SZ -0.041604\n",
       "1777   20220111  000001.SZ -0.028774\n",
       "2063   20220112  000001.SZ -0.063630\n",
       "2372   20220113  000001.SZ -0.042175\n",
       "2680   20220114  000001.SZ -0.077756\n",
       "2990   20220117  000001.SZ -0.047507\n",
       "3322   20220118  000001.SZ -0.023310\n",
       "3608   20220119  000001.SZ -0.042208\n",
       "3917   20220120  000001.SZ  0.007191\n",
       "4225   20220121  000001.SZ -0.039940\n",
       "4535   20220124  000001.SZ -0.049338\n",
       "4844   20220125  000001.SZ -0.060561\n",
       "5152   20220126  000001.SZ -0.052429\n",
       "5461   20220127  000001.SZ -0.061205\n",
       "5771   20220128  000001.SZ -0.068698\n",
       "6077   20220207  000001.SZ -0.007123"
      ]
     },
     "execution_count": 16,
     "metadata": {},
     "output_type": "execute_result"
    }
   ],
   "source": [
    "\n",
    "val1 = daily['group_0']\n",
    "val1 = val1[val1['ts_code'] == '000001.SZ']\n",
    "val1"
   ]
  },
  {
   "cell_type": "code",
   "execution_count": 29,
   "metadata": {},
   "outputs": [
    {
     "data": {
      "text/plain": [
       "(array(['000001.SZ', '600390.SH', '600398.SH', '600415.SH', '600350.SH',\n",
       "        '600352.SH', '600377.SH', '600498.SH', '600510.SH', '600486.SH',\n",
       "        '600482.SH', '600475.SH', '600461.SH', '600339.SH', '600236.SH',\n",
       "        '600177.SH', '600179.SH', '600207.SH', '600315.SH', '600320.SH',\n",
       "        '600269.SH', '600276.SH', '600278.SH', '600284.SH', '600299.SH',\n",
       "        '600754.SH', '600760.SH', '600694.SH', '600705.SH', '600834.SH',\n",
       "        '600835.SH', '600841.SH', '600845.SH', '600848.SH', '600774.SH',\n",
       "        '600567.SH', '600570.SH', '600582.SH', '600583.SH', '600528.SH',\n",
       "        '600547.SH', '600548.SH', '600643.SH', '600648.SH', '600663.SH',\n",
       "        '600667.SH', '600662.SH', '600639.SH', '600600.SH', '600606.SH',\n",
       "        '600612.SH', '600628.SH', '600635.SH', '600519.SH', '600168.SH',\n",
       "        '300750.SZ', '300768.SZ', '300760.SZ', '300637.SZ', '300685.SZ',\n",
       "        '600061.SH', '600054.SH', '600020.SH', '600025.SH', '600028.SH',\n",
       "        '600029.SH', '600053.SH', '600033.SH', '600035.SH', '600036.SH',\n",
       "        '600048.SH', '600050.SH', '600132.SH', '600161.SH', '600104.SH',\n",
       "        '600115.SH', '600126.SH', '600018.SH', '600015.SH', '600000.SH',\n",
       "        '600007.SH', '600012.SH', '600016.SH', '603700.SH', '603707.SH',\n",
       "        '603636.SH', '603638.SH', '603658.SH', '603713.SH', '603823.SH',\n",
       "        '603826.SH', '603839.SH', '603866.SH', '603868.SH', '603833.SH',\n",
       "        '603712.SH', '603787.SH', '603730.SH', '603733.SH', '603605.SH',\n",
       "        '603383.SH', '603306.SH', '603322.SH', '603337.SH', '603567.SH',\n",
       "        '603583.SH', '603590.SH', '603599.SH', '603601.SH', '603489.SH',\n",
       "        '603501.SH', '603515.SH', '603528.SH', '688027.SH', '688036.SH',\n",
       "        '688055.SH', '688365.SH', '688198.SH', '688266.SH', '688278.SH',\n",
       "        '688321.SH', '688333.SH', '603980.SH', '603882.SH', '603885.SH',\n",
       "        '603989.SH', '601200.SH', '601211.SH', '601229.SH', '601238.SH',\n",
       "        '601288.SH', '601228.SH', '601318.SH', '601100.SH', '601106.SH',\n",
       "        '601111.SH', '601186.SH', '601158.SH', '601163.SH', '601166.SH',\n",
       "        '601169.SH', '601138.SH', '601319.SH', '601328.SH', '601595.SH',\n",
       "        '601601.SH', '601628.SH', '601633.SH', '601326.SH', '601577.SH',\n",
       "        '601333.SH', '601336.SH', '601568.SH', '601390.SH', '601512.SH',\n",
       "        '601566.SH', '601398.SH', '601088.SH', '601069.SH', '600895.SH',\n",
       "        '600901.SH', '600894.SH', '600917.SH', '600919.SH', '600926.SH',\n",
       "        '600885.SH', '600886.SH', '600874.SH', '600965.SH', '600999.SH',\n",
       "        '601003.SH', '601006.SH', '601009.SH', '600998.SH', '601019.SH',\n",
       "        '600966.SH', '600977.SH', '600987.SH', '601668.SH', '603111.SH',\n",
       "        '603129.SH', '603156.SH', '603103.SH', '603053.SH', '603056.SH',\n",
       "        '603059.SH', '603060.SH', '603160.SH', '603277.SH', '603288.SH',\n",
       "        '603298.SH', '603043.SH', '603039.SH', '601838.SH', '601857.SH',\n",
       "        '601858.SH', '601828.SH', '601880.SH', '601881.SH', '601882.SH',\n",
       "        '601886.SH', '601888.SH', '601899.SH', '601901.SH', '601816.SH',\n",
       "        '601818.SH', '601766.SH', '601799.SH', '601808.SH', '601916.SH',\n",
       "        '603003.SH', '603033.SH', '601998.SH', '601997.SH', '601933.SH',\n",
       "        '601939.SH', '601958.SH', '601966.SH', '601988.SH', '601989.SH',\n",
       "        '601992.SH', '600851.SH', '002228.SZ', '002230.SZ', '002293.SZ',\n",
       "        '002282.SZ', '002294.SZ', '002299.SZ', '002120.SZ', '002078.SZ',\n",
       "        '002179.SZ', '002142.SZ', '002444.SZ', '002461.SZ', '002543.SZ',\n",
       "        '002500.SZ', '002352.SZ', '002311.SZ', '002320.SZ', '002410.SZ',\n",
       "        '002415.SZ', '002419.SZ', '002423.SZ', '002429.SZ', '002399.SZ',\n",
       "        '000596.SZ', '000598.SZ', '000627.SZ', '000541.SZ', '000544.SZ',\n",
       "        '000553.SZ', '000582.SZ', '000563.SZ', '000567.SZ', '000555.SZ',\n",
       "        '000709.SZ', '000685.SZ', '000048.SZ', '000050.SZ', '000045.SZ',\n",
       "        '000061.SZ', '000088.SZ', '000089.SZ', '000062.SZ', '000429.SZ',\n",
       "        '000166.SZ', '000333.SZ', '000415.SZ', '000987.SZ', '001965.SZ',\n",
       "        '001979.SZ', '000936.SZ', '000975.SZ', '002051.SZ', '002032.SZ',\n",
       "        '002007.SZ', '002010.SZ', '002024.SZ', '002061.SZ', '000828.SZ',\n",
       "        '000858.SZ', '000906.SZ', '000927.SZ', '000900.SZ', '000881.SZ',\n",
       "        '300257.SZ', '300285.SZ', '300298.SZ', '300200.SZ', '300492.SZ',\n",
       "        '300512.SZ', '300558.SZ', '300388.SZ', '300369.SZ', '300450.SZ',\n",
       "        '300408.SZ', '002736.SZ', '002724.SZ', '002819.SZ', '002595.SZ',\n",
       "        '002597.SZ', '002672.SZ', '002678.SZ', '002643.SZ', '002690.SZ',\n",
       "        '002925.SZ', '002901.SZ', '002867.SZ', '002880.SZ', '002936.SZ'],\n",
       "       dtype=object),\n",
       " 310)"
      ]
     },
     "execution_count": 29,
     "metadata": {},
     "output_type": "execute_result"
    }
   ],
   "source": [
    "val2 = groupedDaily['20220104']['group_1']\n",
    "\n",
    "# valx = val2[val2['ts_code'] == '601901.SH']\n",
    "# valx = valx[valx['trade_date'] == '20220121']\n",
    "# valx"
   ]
  },
  {
   "cell_type": "code",
   "execution_count": 94,
   "metadata": {},
   "outputs": [
    {
     "name": "stdout",
     "output_type": "stream",
     "text": [
      "309\n",
      "313\n"
     ]
    },
    {
     "data": {
      "text/plain": [
       "(None, None)"
      ]
     },
     "execution_count": 94,
     "metadata": {},
     "output_type": "execute_result"
    }
   ],
   "source": [
    "import pandas as pd\n",
    "\n",
    "val2 = groupedDaily['20220104']['group_9']\n",
    "a = pd.read_csv('D:\\\\temp_file\\\\all_period_data_20220104_group_9.csv')\n",
    "ourTicker, otherTicker = val2['ts_code'].unique(), a['ts_code'].unique()\n",
    "print(len(ourTicker)), print(len(otherTicker))"
   ]
  },
  {
   "cell_type": "code",
   "execution_count": 96,
   "metadata": {},
   "outputs": [],
   "source": [
    "\n",
    "for i in val2['ts_code'].unique():\n",
    "    if i not in a['ts_code'].unique():\n",
    "        print(i)"
   ]
  },
  {
   "cell_type": "code",
   "execution_count": 95,
   "metadata": {},
   "outputs": [
    {
     "name": "stdout",
     "output_type": "stream",
     "text": [
      "601665.SH\n",
      "002339.SZ\n",
      "002009.SZ\n",
      "002798.SZ\n"
     ]
    }
   ],
   "source": [
    "for i in a['ts_code'].unique():\n",
    "    if i not in val2['ts_code'].unique():\n",
    "        print(i)"
   ]
  },
  {
   "cell_type": "code",
   "execution_count": 57,
   "metadata": {},
   "outputs": [
    {
     "data": {
      "text/plain": [
       "309"
      ]
     },
     "execution_count": 57,
     "metadata": {},
     "output_type": "execute_result"
    }
   ],
   "source": [
    "len(a['ts_code'].unique())"
   ]
  }
 ],
 "metadata": {
  "kernelspec": {
   "display_name": "internCode",
   "language": "python",
   "name": "python3"
  },
  "language_info": {
   "codemirror_mode": {
    "name": "ipython",
    "version": 3
   },
   "file_extension": ".py",
   "mimetype": "text/x-python",
   "name": "python",
   "nbconvert_exporter": "python",
   "pygments_lexer": "ipython3",
   "version": "3.11.4"
  },
  "orig_nbformat": 4
 },
 "nbformat": 4,
 "nbformat_minor": 2
}
