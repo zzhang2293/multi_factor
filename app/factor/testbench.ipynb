{
 "cells": [
  {
   "cell_type": "code",
   "execution_count": 1,
   "metadata": {},
   "outputs": [
    {
     "ename": "OperationFailure",
     "evalue": "$and/$or/$nor must be a nonempty array, full error: {'ok': 0.0, 'errmsg': '$and/$or/$nor must be a nonempty array', 'code': 2, 'codeName': 'BadValue'}",
     "output_type": "error",
     "traceback": [
      "\u001b[0;31m---------------------------------------------------------------------------\u001b[0m",
      "\u001b[0;31mOperationFailure\u001b[0m                          Traceback (most recent call last)",
      "Cell \u001b[0;32mIn[1], line 6\u001b[0m\n\u001b[1;32m      3\u001b[0m \u001b[39mfrom\u001b[39;00m \u001b[39msklearn\u001b[39;00m\u001b[39m.\u001b[39;00m\u001b[39mpreprocessing\u001b[39;00m \u001b[39mimport\u001b[39;00m minmax_scale\n\u001b[1;32m      5\u001b[0m model \u001b[39m=\u001b[39m factorModel()\n\u001b[0;32m----> 6\u001b[0m data \u001b[39m=\u001b[39m model\u001b[39m.\u001b[39;49mgetData()\n",
      "File \u001b[0;32m~/Desktop/multi_factor/app/factor/factorModel.py:284\u001b[0m, in \u001b[0;36mfactorModel.getData\u001b[0;34m(self)\u001b[0m\n\u001b[1;32m    279\u001b[0m     factor_3D, month_profit, stock_list, factor_MAP \u001b[39m=\u001b[39m transform_data(all_period_data, \u001b[39mself\u001b[39m\u001b[39m.\u001b[39mfactor_name_lst)\n\u001b[1;32m    282\u001b[0m     \u001b[39mreturn\u001b[39;00m factor_3D, factor_MAP, month_profit, \u001b[39mself\u001b[39m\u001b[39m.\u001b[39mdaily_profit, \u001b[39mself\u001b[39m\u001b[39m.\u001b[39mbt_tradedate, stock_list, \u001b[39mself\u001b[39m\u001b[39m.\u001b[39mfactor_name_lst\n\u001b[0;32m--> 284\u001b[0m \u001b[39mreturn\u001b[39;00m run()\n",
      "File \u001b[0;32m~/Desktop/multi_factor/app/factor/factorModel.py:269\u001b[0m, in \u001b[0;36mfactorModel.getData.<locals>.run\u001b[0;34m()\u001b[0m\n\u001b[1;32m    266\u001b[0m \u001b[39mself\u001b[39m\u001b[39m.\u001b[39mdaily_profit \u001b[39m=\u001b[39m pd\u001b[39m.\u001b[39mDataFrame(columns\u001b[39m=\u001b[39m[\u001b[39m'\u001b[39m\u001b[39mtrade_data\u001b[39m\u001b[39m'\u001b[39m, \u001b[39m'\u001b[39m\u001b[39mts_code\u001b[39m\u001b[39m'\u001b[39m, \u001b[39m'\u001b[39m\u001b[39mprofit_daily\u001b[39m\u001b[39m'\u001b[39m])\n\u001b[1;32m    267\u001b[0m \u001b[39mfor\u001b[39;00m item \u001b[39min\u001b[39;00m \u001b[39mrange\u001b[39m(\u001b[39mlen\u001b[39m(\u001b[39mself\u001b[39m\u001b[39m.\u001b[39mbt_tradedate)):\n\u001b[1;32m    268\u001b[0m     \u001b[39m# process = threading.Thread(target=self.get_val, args=(item, all_period_data, IC_info_lst))\u001b[39;00m\n\u001b[0;32m--> 269\u001b[0m     get_val(\u001b[39mself\u001b[39;49m\u001b[39m.\u001b[39;49mbt_tradedate, \u001b[39mself\u001b[39;49m\u001b[39m.\u001b[39;49mhold_period, \u001b[39mself\u001b[39;49m\u001b[39m.\u001b[39;49mpre_bt_tradedate, \n\u001b[1;32m    270\u001b[0m             \u001b[39mself\u001b[39;49m\u001b[39m.\u001b[39;49muniverse, \u001b[39mself\u001b[39;49m\u001b[39m.\u001b[39;49muniverse_index, \u001b[39mself\u001b[39;49m\u001b[39m.\u001b[39;49mfactor_name_lst, \n\u001b[1;32m    271\u001b[0m             item, all_period_data, \u001b[39mself\u001b[39;49m\u001b[39m.\u001b[39;49mstkapi, \u001b[39mself\u001b[39;49m\u001b[39m.\u001b[39;49mfactor_api, delete_list)\n\u001b[1;32m    272\u001b[0m delete_list \u001b[39m=\u001b[39m [item \u001b[39mfor\u001b[39;00m sublist \u001b[39min\u001b[39;00m delete_list \u001b[39mfor\u001b[39;00m item \u001b[39min\u001b[39;00m sublist]\n\u001b[1;32m    273\u001b[0m \u001b[39mfor\u001b[39;00m day \u001b[39min\u001b[39;00m all_period_data:\n",
      "File \u001b[0;32m~/Desktop/multi_factor/app/factor/factorModel.py:76\u001b[0m, in \u001b[0;36mfactorModel.getData.<locals>.get_val\u001b[0;34m(bt_tradedate, hold_period, pre_bt_tradedate, universe, universe_index, factor_name_lst, item, all_period_data, stk_api, factor_api, delete_list)\u001b[0m\n\u001b[1;32m     74\u001b[0m delete_list\u001b[39m.\u001b[39mappend(need_to_delete1)\n\u001b[1;32m     75\u001b[0m delete_list\u001b[39m.\u001b[39mappend(need_to_delete2)\n\u001b[0;32m---> 76\u001b[0m stock_daily_profit \u001b[39m=\u001b[39m GetHoldPeriodPriceRet(hold_datelst, df_f2, stk_api)\n\u001b[1;32m     78\u001b[0m \u001b[39mself\u001b[39m\u001b[39m.\u001b[39mdaily_profit \u001b[39m=\u001b[39m pd\u001b[39m.\u001b[39mconcat([\u001b[39mself\u001b[39m\u001b[39m.\u001b[39mdaily_profit, stock_daily_profit], axis\u001b[39m=\u001b[39m\u001b[39m0\u001b[39m, ignore_index\u001b[39m=\u001b[39m\u001b[39mTrue\u001b[39;00m)\n\u001b[1;32m     80\u001b[0m stk_holdret_monthly \u001b[39m=\u001b[39m StockHoldRet(stock_daily_profit) \u001b[39m# monthly profit, use for analysis\u001b[39;00m\n",
      "File \u001b[0;32m~/Desktop/multi_factor/app/factor/factorModel.py:186\u001b[0m, in \u001b[0;36mfactorModel.getData.<locals>.GetHoldPeriodPriceRet\u001b[0;34m(hold_datelst, stock_factor_lst, stk_api)\u001b[0m\n\u001b[1;32m    183\u001b[0m ret_group_dict \u001b[39m=\u001b[39m {}\n\u001b[1;32m    185\u001b[0m stock_list \u001b[39m=\u001b[39m \u001b[39mlist\u001b[39m(stock_factor_lst\u001b[39m.\u001b[39mindex)\n\u001b[0;32m--> 186\u001b[0m his_data \u001b[39m=\u001b[39m stk_api\u001b[39m.\u001b[39;49mMktEqudAdjGet(stock_list, [], s_date, e_date, [\u001b[39m'\u001b[39;49m\u001b[39mtrade_date\u001b[39;49m\u001b[39m'\u001b[39;49m,\u001b[39m'\u001b[39;49m\u001b[39mts_code\u001b[39;49m\u001b[39m'\u001b[39;49m,\u001b[39m'\u001b[39;49m\u001b[39mclose\u001b[39;49m\u001b[39m'\u001b[39;49m,\u001b[39m'\u001b[39;49m\u001b[39mpre_close\u001b[39;49m\u001b[39m'\u001b[39;49m])\n\u001b[1;32m    187\u001b[0m his_data\u001b[39m.\u001b[39mdropna(inplace\u001b[39m=\u001b[39m\u001b[39mTrue\u001b[39;00m)\n\u001b[1;32m    188\u001b[0m his_data[\u001b[39m'\u001b[39m\u001b[39mprofit_daily\u001b[39m\u001b[39m'\u001b[39m] \u001b[39m=\u001b[39m his_data[\u001b[39m'\u001b[39m\u001b[39mclose\u001b[39m\u001b[39m'\u001b[39m] \u001b[39m/\u001b[39m his_data[\u001b[39m'\u001b[39m\u001b[39mpre_close\u001b[39m\u001b[39m'\u001b[39m] \u001b[39m-\u001b[39m \u001b[39m1\u001b[39m\n",
      "File \u001b[0;32m~/Desktop/multi_factor/app/factor/api/SelectData.py:354\u001b[0m, in \u001b[0;36mSelectFromMongo.MktEqudAdjGet\u001b[0;34m(self, secID, tradeDate, beginDate, endDate, field)\u001b[0m\n\u001b[1;32m    351\u001b[0m TodaySelectDict[\u001b[39m\"\u001b[39m\u001b[39mtrade_date\u001b[39m\u001b[39m\"\u001b[39m] \u001b[39m=\u001b[39m tLastTradeDateStr\n\u001b[1;32m    352\u001b[0m TodayAdjRes \u001b[39m=\u001b[39m \u001b[39mself\u001b[39m\u001b[39m.\u001b[39mdb\u001b[39m.\u001b[39mSelect(\u001b[39m\"\u001b[39m\u001b[39mStockBackSys\u001b[39m\u001b[39m\"\u001b[39m, \u001b[39m\"\u001b[39m\u001b[39mStock_Adj_\u001b[39m\u001b[39m\"\u001b[39m \u001b[39m+\u001b[39m \u001b[39mstr\u001b[39m(tLastTradeDate\u001b[39m.\u001b[39myear), TodaySelectDict,\n\u001b[1;32m    353\u001b[0m                              {\u001b[39m\"\u001b[39m\u001b[39m_id\u001b[39m\u001b[39m\"\u001b[39m: \u001b[39m0\u001b[39m})\n\u001b[0;32m--> 354\u001b[0m \u001b[39mfor\u001b[39;00m tAdj \u001b[39min\u001b[39;00m TodayAdjRes:\n\u001b[1;32m    355\u001b[0m     TodayAdjDict[tAdj[\u001b[39m\"\u001b[39m\u001b[39mts_code\u001b[39m\u001b[39m\"\u001b[39m]] \u001b[39m=\u001b[39m tAdj[\u001b[39m\"\u001b[39m\u001b[39madj_factor\u001b[39m\u001b[39m\"\u001b[39m]\n\u001b[1;32m    357\u001b[0m \u001b[39m# 验证复权因子是否都存在\u001b[39;00m\n",
      "File \u001b[0;32m~/miniconda3/envs/internCode/lib/python3.11/site-packages/pymongo/cursor.py:1251\u001b[0m, in \u001b[0;36mCursor.next\u001b[0;34m(self)\u001b[0m\n\u001b[1;32m   1249\u001b[0m \u001b[39mif\u001b[39;00m \u001b[39mself\u001b[39m\u001b[39m.\u001b[39m__empty:\n\u001b[1;32m   1250\u001b[0m     \u001b[39mraise\u001b[39;00m \u001b[39mStopIteration\u001b[39;00m\n\u001b[0;32m-> 1251\u001b[0m \u001b[39mif\u001b[39;00m \u001b[39mlen\u001b[39m(\u001b[39mself\u001b[39m\u001b[39m.\u001b[39m__data) \u001b[39mor\u001b[39;00m \u001b[39mself\u001b[39;49m\u001b[39m.\u001b[39;49m_refresh():\n\u001b[1;32m   1252\u001b[0m     \u001b[39mreturn\u001b[39;00m \u001b[39mself\u001b[39m\u001b[39m.\u001b[39m__data\u001b[39m.\u001b[39mpopleft()\n\u001b[1;32m   1253\u001b[0m \u001b[39melse\u001b[39;00m:\n",
      "File \u001b[0;32m~/miniconda3/envs/internCode/lib/python3.11/site-packages/pymongo/cursor.py:1168\u001b[0m, in \u001b[0;36mCursor._refresh\u001b[0;34m(self)\u001b[0m\n\u001b[1;32m   1146\u001b[0m         \u001b[39mraise\u001b[39;00m InvalidOperation(\n\u001b[1;32m   1147\u001b[0m             \u001b[39m\"\u001b[39m\u001b[39mPassing a \u001b[39m\u001b[39m'\u001b[39m\u001b[39mhint\u001b[39m\u001b[39m'\u001b[39m\u001b[39m is required when using the min/max query\u001b[39m\u001b[39m\"\u001b[39m\n\u001b[1;32m   1148\u001b[0m             \u001b[39m\"\u001b[39m\u001b[39m option to ensure the query utilizes the correct index\u001b[39m\u001b[39m\"\u001b[39m\n\u001b[1;32m   1149\u001b[0m         )\n\u001b[1;32m   1150\u001b[0m     q \u001b[39m=\u001b[39m \u001b[39mself\u001b[39m\u001b[39m.\u001b[39m_query_class(\n\u001b[1;32m   1151\u001b[0m         \u001b[39mself\u001b[39m\u001b[39m.\u001b[39m__query_flags,\n\u001b[1;32m   1152\u001b[0m         \u001b[39mself\u001b[39m\u001b[39m.\u001b[39m__collection\u001b[39m.\u001b[39mdatabase\u001b[39m.\u001b[39mname,\n\u001b[0;32m   (...)\u001b[0m\n\u001b[1;32m   1166\u001b[0m         \u001b[39mself\u001b[39m\u001b[39m.\u001b[39m__exhaust,\n\u001b[1;32m   1167\u001b[0m     )\n\u001b[0;32m-> 1168\u001b[0m     \u001b[39mself\u001b[39;49m\u001b[39m.\u001b[39;49m__send_message(q)\n\u001b[1;32m   1169\u001b[0m \u001b[39melif\u001b[39;00m \u001b[39mself\u001b[39m\u001b[39m.\u001b[39m__id:  \u001b[39m# Get More\u001b[39;00m\n\u001b[1;32m   1170\u001b[0m     \u001b[39mif\u001b[39;00m \u001b[39mself\u001b[39m\u001b[39m.\u001b[39m__limit:\n",
      "File \u001b[0;32m~/miniconda3/envs/internCode/lib/python3.11/site-packages/pymongo/cursor.py:1055\u001b[0m, in \u001b[0;36mCursor.__send_message\u001b[0;34m(self, operation)\u001b[0m\n\u001b[1;32m   1052\u001b[0m     \u001b[39mraise\u001b[39;00m InvalidOperation(\u001b[39m\"\u001b[39m\u001b[39mexhaust cursors do not support auto encryption\u001b[39m\u001b[39m\"\u001b[39m)\n\u001b[1;32m   1054\u001b[0m \u001b[39mtry\u001b[39;00m:\n\u001b[0;32m-> 1055\u001b[0m     response \u001b[39m=\u001b[39m client\u001b[39m.\u001b[39;49m_run_operation(\n\u001b[1;32m   1056\u001b[0m         operation, \u001b[39mself\u001b[39;49m\u001b[39m.\u001b[39;49m_unpack_response, address\u001b[39m=\u001b[39;49m\u001b[39mself\u001b[39;49m\u001b[39m.\u001b[39;49m__address\n\u001b[1;32m   1057\u001b[0m     )\n\u001b[1;32m   1058\u001b[0m \u001b[39mexcept\u001b[39;00m OperationFailure \u001b[39mas\u001b[39;00m exc:\n\u001b[1;32m   1059\u001b[0m     \u001b[39mif\u001b[39;00m exc\u001b[39m.\u001b[39mcode \u001b[39min\u001b[39;00m _CURSOR_CLOSED_ERRORS \u001b[39mor\u001b[39;00m \u001b[39mself\u001b[39m\u001b[39m.\u001b[39m__exhaust:\n\u001b[1;32m   1060\u001b[0m         \u001b[39m# Don't send killCursors because the cursor is already closed.\u001b[39;00m\n",
      "File \u001b[0;32m~/miniconda3/envs/internCode/lib/python3.11/site-packages/pymongo/_csot.py:106\u001b[0m, in \u001b[0;36mapply.<locals>.csot_wrapper\u001b[0;34m(self, *args, **kwargs)\u001b[0m\n\u001b[1;32m    104\u001b[0m         \u001b[39mwith\u001b[39;00m _TimeoutContext(timeout):\n\u001b[1;32m    105\u001b[0m             \u001b[39mreturn\u001b[39;00m func(\u001b[39mself\u001b[39m, \u001b[39m*\u001b[39margs, \u001b[39m*\u001b[39m\u001b[39m*\u001b[39mkwargs)\n\u001b[0;32m--> 106\u001b[0m \u001b[39mreturn\u001b[39;00m func(\u001b[39mself\u001b[39;49m, \u001b[39m*\u001b[39;49margs, \u001b[39m*\u001b[39;49m\u001b[39m*\u001b[39;49mkwargs)\n",
      "File \u001b[0;32m~/miniconda3/envs/internCode/lib/python3.11/site-packages/pymongo/mongo_client.py:1341\u001b[0m, in \u001b[0;36mMongoClient._run_operation\u001b[0;34m(self, operation, unpack_res, address)\u001b[0m\n\u001b[1;32m   1336\u001b[0m     operation\u001b[39m.\u001b[39mreset()  \u001b[39m# Reset op in case of retry.\u001b[39;00m\n\u001b[1;32m   1337\u001b[0m     \u001b[39mreturn\u001b[39;00m server\u001b[39m.\u001b[39mrun_operation(\n\u001b[1;32m   1338\u001b[0m         sock_info, operation, read_preference, \u001b[39mself\u001b[39m\u001b[39m.\u001b[39m_event_listeners, unpack_res\n\u001b[1;32m   1339\u001b[0m     )\n\u001b[0;32m-> 1341\u001b[0m \u001b[39mreturn\u001b[39;00m \u001b[39mself\u001b[39;49m\u001b[39m.\u001b[39;49m_retryable_read(\n\u001b[1;32m   1342\u001b[0m     _cmd,\n\u001b[1;32m   1343\u001b[0m     operation\u001b[39m.\u001b[39;49mread_preference,\n\u001b[1;32m   1344\u001b[0m     operation\u001b[39m.\u001b[39;49msession,\n\u001b[1;32m   1345\u001b[0m     address\u001b[39m=\u001b[39;49maddress,\n\u001b[1;32m   1346\u001b[0m     retryable\u001b[39m=\u001b[39;49m\u001b[39misinstance\u001b[39;49m(operation, message\u001b[39m.\u001b[39;49m_Query),\n\u001b[1;32m   1347\u001b[0m )\n",
      "File \u001b[0;32m~/miniconda3/envs/internCode/lib/python3.11/site-packages/pymongo/_csot.py:106\u001b[0m, in \u001b[0;36mapply.<locals>.csot_wrapper\u001b[0;34m(self, *args, **kwargs)\u001b[0m\n\u001b[1;32m    104\u001b[0m         \u001b[39mwith\u001b[39;00m _TimeoutContext(timeout):\n\u001b[1;32m    105\u001b[0m             \u001b[39mreturn\u001b[39;00m func(\u001b[39mself\u001b[39m, \u001b[39m*\u001b[39margs, \u001b[39m*\u001b[39m\u001b[39m*\u001b[39mkwargs)\n\u001b[0;32m--> 106\u001b[0m \u001b[39mreturn\u001b[39;00m func(\u001b[39mself\u001b[39;49m, \u001b[39m*\u001b[39;49margs, \u001b[39m*\u001b[39;49m\u001b[39m*\u001b[39;49mkwargs)\n",
      "File \u001b[0;32m~/miniconda3/envs/internCode/lib/python3.11/site-packages/pymongo/mongo_client.py:1465\u001b[0m, in \u001b[0;36mMongoClient._retryable_read\u001b[0;34m(self, func, read_pref, session, address, retryable)\u001b[0m\n\u001b[1;32m   1463\u001b[0m             \u001b[39massert\u001b[39;00m last_error \u001b[39mis\u001b[39;00m \u001b[39mnot\u001b[39;00m \u001b[39mNone\u001b[39;00m\n\u001b[1;32m   1464\u001b[0m             \u001b[39mraise\u001b[39;00m last_error\n\u001b[0;32m-> 1465\u001b[0m         \u001b[39mreturn\u001b[39;00m func(session, server, sock_info, read_pref)\n\u001b[1;32m   1466\u001b[0m \u001b[39mexcept\u001b[39;00m ServerSelectionTimeoutError:\n\u001b[1;32m   1467\u001b[0m     \u001b[39mif\u001b[39;00m retrying:\n\u001b[1;32m   1468\u001b[0m         \u001b[39m# The application may think the write was never attempted\u001b[39;00m\n\u001b[1;32m   1469\u001b[0m         \u001b[39m# if we raise ServerSelectionTimeoutError on the retry\u001b[39;00m\n\u001b[1;32m   1470\u001b[0m         \u001b[39m# attempt. Raise the original exception instead.\u001b[39;00m\n",
      "File \u001b[0;32m~/miniconda3/envs/internCode/lib/python3.11/site-packages/pymongo/mongo_client.py:1337\u001b[0m, in \u001b[0;36mMongoClient._run_operation.<locals>._cmd\u001b[0;34m(session, server, sock_info, read_preference)\u001b[0m\n\u001b[1;32m   1335\u001b[0m \u001b[39mdef\u001b[39;00m \u001b[39m_cmd\u001b[39m(session, server, sock_info, read_preference):\n\u001b[1;32m   1336\u001b[0m     operation\u001b[39m.\u001b[39mreset()  \u001b[39m# Reset op in case of retry.\u001b[39;00m\n\u001b[0;32m-> 1337\u001b[0m     \u001b[39mreturn\u001b[39;00m server\u001b[39m.\u001b[39;49mrun_operation(\n\u001b[1;32m   1338\u001b[0m         sock_info, operation, read_preference, \u001b[39mself\u001b[39;49m\u001b[39m.\u001b[39;49m_event_listeners, unpack_res\n\u001b[1;32m   1339\u001b[0m     )\n",
      "File \u001b[0;32m~/miniconda3/envs/internCode/lib/python3.11/site-packages/pymongo/helpers.py:279\u001b[0m, in \u001b[0;36m_handle_reauth.<locals>.inner\u001b[0;34m(*args, **kwargs)\u001b[0m\n\u001b[1;32m    276\u001b[0m \u001b[39mfrom\u001b[39;00m \u001b[39mpymongo\u001b[39;00m\u001b[39m.\u001b[39;00m\u001b[39mpool\u001b[39;00m \u001b[39mimport\u001b[39;00m SocketInfo\n\u001b[1;32m    278\u001b[0m \u001b[39mtry\u001b[39;00m:\n\u001b[0;32m--> 279\u001b[0m     \u001b[39mreturn\u001b[39;00m func(\u001b[39m*\u001b[39;49margs, \u001b[39m*\u001b[39;49m\u001b[39m*\u001b[39;49mkwargs)\n\u001b[1;32m    280\u001b[0m \u001b[39mexcept\u001b[39;00m OperationFailure \u001b[39mas\u001b[39;00m exc:\n\u001b[1;32m    281\u001b[0m     \u001b[39mif\u001b[39;00m no_reauth:\n",
      "File \u001b[0;32m~/miniconda3/envs/internCode/lib/python3.11/site-packages/pymongo/server.py:135\u001b[0m, in \u001b[0;36mServer.run_operation\u001b[0;34m(self, sock_info, operation, read_preference, listeners, unpack_res)\u001b[0m\n\u001b[1;32m    133\u001b[0m         first \u001b[39m=\u001b[39m docs[\u001b[39m0\u001b[39m]\n\u001b[1;32m    134\u001b[0m         operation\u001b[39m.\u001b[39mclient\u001b[39m.\u001b[39m_process_response(first, operation\u001b[39m.\u001b[39msession)\n\u001b[0;32m--> 135\u001b[0m         _check_command_response(first, sock_info\u001b[39m.\u001b[39;49mmax_wire_version)\n\u001b[1;32m    136\u001b[0m \u001b[39mexcept\u001b[39;00m \u001b[39mException\u001b[39;00m \u001b[39mas\u001b[39;00m exc:\n\u001b[1;32m    137\u001b[0m     \u001b[39mif\u001b[39;00m publish:\n",
      "File \u001b[0;32m~/miniconda3/envs/internCode/lib/python3.11/site-packages/pymongo/helpers.py:194\u001b[0m, in \u001b[0;36m_check_command_response\u001b[0;34m(response, max_wire_version, allowable_errors, parse_write_concern_error)\u001b[0m\n\u001b[1;32m    191\u001b[0m \u001b[39melif\u001b[39;00m code \u001b[39m==\u001b[39m \u001b[39m43\u001b[39m:\n\u001b[1;32m    192\u001b[0m     \u001b[39mraise\u001b[39;00m CursorNotFound(errmsg, code, response, max_wire_version)\n\u001b[0;32m--> 194\u001b[0m \u001b[39mraise\u001b[39;00m OperationFailure(errmsg, code, response, max_wire_version)\n",
      "\u001b[0;31mOperationFailure\u001b[0m: $and/$or/$nor must be a nonempty array, full error: {'ok': 0.0, 'errmsg': '$and/$or/$nor must be a nonempty array', 'code': 2, 'codeName': 'BadValue'}"
     ]
    }
   ],
   "source": [
    "from factorModel import factorModel\n",
    "import pandas as pd\n",
    "from sklearn.preprocessing import minmax_scale\n",
    "\n",
    "model = factorModel()\n",
    "data = model.getData()"
   ]
  },
  {
   "cell_type": "code",
   "execution_count": 4,
   "metadata": {},
   "outputs": [],
   "source": [
    "ICList = []\n",
    "\n",
    "for i in range(3):\n",
    "    ICList.append(model.calcIC(data[4], data[0][i], data[2])[1])\n",
    "\n",
    "IC = pd.DataFrame(ICList).T\n",
    "IC"
   ]
  },
  {
   "cell_type": "code",
   "execution_count": 165,
   "metadata": {},
   "outputs": [],
   "source": [
    "d = model.calcFactorWeights('smart', data[6], HistoricalIC=IC, smartmode='IRSolverWithDecay')"
   ]
  },
  {
   "cell_type": "code",
   "execution_count": 13,
   "metadata": {},
   "outputs": [
    {
     "data": {
      "text/plain": [
       "[-11.342434592474811, 18.657913467871047, -6.828674225278662]"
      ]
     },
     "execution_count": 13,
     "metadata": {},
     "output_type": "execute_result"
    }
   ],
   "source": [
    "model.calcFactorWeights('smart', data[6], HistoricalIC=IC, smartmode='IRSolver')"
   ]
  }
 ],
 "metadata": {
  "kernelspec": {
   "display_name": "internCode",
   "language": "python",
   "name": "python3"
  },
  "language_info": {
   "codemirror_mode": {
    "name": "ipython",
    "version": 3
   },
   "file_extension": ".py",
   "mimetype": "text/x-python",
   "name": "python",
   "nbconvert_exporter": "python",
   "pygments_lexer": "ipython3",
   "version": "3.11.4"
  },
  "orig_nbformat": 4
 },
 "nbformat": 4,
 "nbformat_minor": 2
}
